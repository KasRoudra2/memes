{
  "nbformat": 4,
  "nbformat_minor": 0,
  "metadata": {
    "colab": {
      "name": "React-Build.ipynb",
      "provenance": [],
      "collapsed_sections": [],
      "include_colab_link": true
    },
    "kernelspec": {
      "name": "python3",
      "display_name": "Python 3"
    },
    "language_info": {
      "name": "python"
    }
  },
  "cells": [
    {
      "cell_type": "markdown",
      "metadata": {
        "id": "view-in-github",
        "colab_type": "text"
      },
      "source": [
        "<a href=\"https://colab.research.google.com/gist/KasRoudra/7dfcbcef1a1cd082c65fbd26312ff393/react-build.ipynb\" target=\"_parent\"><img src=\"https://colab.research.google.com/assets/colab-badge.svg\" alt=\"Open In Colab\"/></a>"
      ]
    },
    {
      "cell_type": "markdown",
      "metadata": {
        "id": "4N3FEq-ag5e_"
      },
      "source": [
        "**Delete unnecessary files (optional) to prevent overwrite error while unzipping.**"
      ]
    },
    {
      "cell_type": "code",
      "metadata": {
        "id": "1C9FWND9NGgi"
      },
      "source": [
        "!rm -rf *"
      ],
      "execution_count": null,
      "outputs": []
    },
    {
      "cell_type": "markdown",
      "metadata": {
        "id": "kJG4xXplh0HN"
      },
      "source": [
        "**Zip your files and folders of react project into source.zip. Upload that in current directory of colab.**"
      ]
    },
    {
      "cell_type": "code",
      "metadata": {
        "id": "SZb7LI5gNLMC"
      },
      "source": [
        "!unzip source.zip"
      ],
      "execution_count": null,
      "outputs": []
    },
    {
      "cell_type": "markdown",
      "metadata": {
        "id": "ikzGZUdrjTxF"
      },
      "source": [
        "**This step will install node/npm dependencies.**"
      ]
    },
    {
      "cell_type": "code",
      "metadata": {
        "id": "KilawJZeNRRz"
      },
      "source": [
        "!npm install"
      ],
      "execution_count": null,
      "outputs": []
    },
    {
      "cell_type": "markdown",
      "metadata": {
        "id": "tAWD4TZ_iygz"
      },
      "source": [
        "**Run this command to build site.**"
      ]
    },
    {
      "cell_type": "code",
      "metadata": {
        "id": "dXf0y4SXNXdo"
      },
      "source": [
        "!npm run build"
      ],
      "execution_count": null,
      "outputs": []
    },
    {
      "cell_type": "markdown",
      "metadata": {
        "id": "p8hmPhlkjq9o"
      },
      "source": [
        "**This final command zips the website files into build.zip. You can download the file from current folder!**"
      ]
    },
    {
      "cell_type": "code",
      "metadata": {
        "id": "HKZ6PfHkNdbU"
      },
      "source": [
        "!cd build && zip -r build.zip * && mv -f build.zip /content"
      ],
      "execution_count": null,
      "outputs": []
    }
  ]
}